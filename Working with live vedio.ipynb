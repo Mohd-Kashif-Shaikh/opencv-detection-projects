{
 "cells": [
  {
   "cell_type": "markdown",
   "id": "fb51312c",
   "metadata": {},
   "source": [
    "# 📚 Importing Libraries"
   ]
  },
  {
   "cell_type": "code",
   "execution_count": 2,
   "id": "0889058c",
   "metadata": {},
   "outputs": [],
   "source": [
    "import cv2"
   ]
  },
  {
   "cell_type": "code",
   "execution_count": 3,
   "id": "9386c7aa",
   "metadata": {},
   "outputs": [],
   "source": [
    "vedio=cv2.VideoCapture(0)  ## Webcam"
   ]
  },
  {
   "cell_type": "markdown",
   "id": "dc239e99",
   "metadata": {},
   "source": [
    "# 🎥 Capturing Live Video (Grayscale Preview)"
   ]
  },
  {
   "cell_type": "code",
   "execution_count": 4,
   "id": "052ad8b3",
   "metadata": {},
   "outputs": [],
   "source": [
    "while True:\n",
    "    check,frame=vedio.read()\n",
    "    gray=cv2.cvtColor(frame,cv2.COLOR_BGR2GRAY)\n",
    "    cv2.imshow(\"Live_Vedio\",gray)\n",
    "    if cv2.waitKey(1)==ord(\"q\"):  # it will close if u pressed q\n",
    "        break\n",
    "vedio.release()\n",
    "cv2.destroyAllWindows()"
   ]
  },
  {
   "cell_type": "markdown",
   "id": "3e756fb2",
   "metadata": {},
   "source": [
    "# 📦 Loading Haarcascade Classifiers"
   ]
  },
  {
   "cell_type": "code",
   "execution_count": 7,
   "id": "16850a5f",
   "metadata": {},
   "outputs": [],
   "source": [
    "face_classifier=cv2.CascadeClassifier(\"Haarcascades/haarcascade_frontalface_default.xml\")\n",
    "face_eye=cv2.CascadeClassifier(\"Haarcascades/haarcascade_eye.xml\")"
   ]
  },
  {
   "cell_type": "markdown",
   "id": "da6094c6",
   "metadata": {},
   "source": [
    "# 🧠 Face and Eye Detection Function"
   ]
  },
  {
   "cell_type": "code",
   "execution_count": 8,
   "id": "ab9b447d",
   "metadata": {},
   "outputs": [],
   "source": [
    "def detect(gray,frame):  \n",
    "    faces=face_classifier.detectMultiScale(gray,1.3,5)\n",
    "    for (x,y,w,h) in faces:\n",
    "        cv2.rectangle(frame,(x,y),(x+w,y+h),(255,0,0),2)\n",
    "        roi_gray=gray[y:y+h,x:x+w]\n",
    "        roi_color=frame[y:y+h,x:x+w]\n",
    "        eyes=face_eye.detectMultiScale(roi_gray,1.1,3)\n",
    "        for (ex,ey,ew,eh) in eyes:\n",
    "            cv2.rectangle(roi_color,(ex,ey),(ex+ew,ey+eh),(0,255,0),2)\n",
    "    return frame"
   ]
  },
  {
   "cell_type": "markdown",
   "id": "b7de2201",
   "metadata": {},
   "source": [
    "# 📡 Running Live Face & Eye Detection"
   ]
  },
  {
   "cell_type": "code",
   "execution_count": 9,
   "id": "7d3a6890",
   "metadata": {},
   "outputs": [],
   "source": [
    "vedio=cv2.VideoCapture(0) # live webcam\n",
    "while True:\n",
    "    check,frame=vedio.read()\n",
    "    gray=cv2.cvtColor(frame,cv2.COLOR_BGR2GRAY)\n",
    "    live=detect(gray,frame)\n",
    "    cv2.imshow(\"Live_Vedio\",live)\n",
    "    if cv2.waitKey(1)==ord(\"q\"):  # it will close if u pressed q\n",
    "        break\n",
    "vedio.release()\n",
    "cv2.destroyAllWindows()"
   ]
  },
  {
   "cell_type": "code",
   "execution_count": null,
   "id": "b7693d08",
   "metadata": {},
   "outputs": [],
   "source": []
  }
 ],
 "metadata": {
  "kernelspec": {
   "display_name": "Python 3 (ipykernel)",
   "language": "python",
   "name": "python3"
  },
  "language_info": {
   "codemirror_mode": {
    "name": "ipython",
    "version": 3
   },
   "file_extension": ".py",
   "mimetype": "text/x-python",
   "name": "python",
   "nbconvert_exporter": "python",
   "pygments_lexer": "ipython3",
   "version": "3.9.13"
  }
 },
 "nbformat": 4,
 "nbformat_minor": 5
}
