{
 "cells": [
  {
   "cell_type": "markdown",
   "id": "0929629e",
   "metadata": {},
   "source": [
    "## 📚 Importing Libraries\n"
   ]
  },
  {
   "cell_type": "code",
   "execution_count": 1,
   "id": "6bf0e7f7",
   "metadata": {},
   "outputs": [],
   "source": [
    "import cv2"
   ]
  },
  {
   "cell_type": "code",
   "execution_count": 2,
   "id": "00916aa6",
   "metadata": {},
   "outputs": [],
   "source": [
    "import numpy as np\n",
    "import warnings\n",
    "warnings.simplefilter(\"ignore\")"
   ]
  },
  {
   "cell_type": "markdown",
   "id": "bdddbdc1",
   "metadata": {},
   "source": [
    "## 🖼️ Loading and Displaying Images\n"
   ]
  },
  {
   "cell_type": "code",
   "execution_count": 3,
   "id": "5ba98036",
   "metadata": {},
   "outputs": [],
   "source": [
    "img=cv2.imread(\"Images/Cristiano_Ronaldo.jpg\",1)"
   ]
  },
  {
   "cell_type": "code",
   "execution_count": 4,
   "id": "33f606a8",
   "metadata": {
    "scrolled": true
   },
   "outputs": [
    {
     "name": "stdout",
     "output_type": "stream",
     "text": [
      "[[[244 243 245]\n",
      "  [244 243 245]\n",
      "  [244 243 245]\n",
      "  ...\n",
      "  [242 244 245]\n",
      "  [242 244 245]\n",
      "  [242 244 245]]\n",
      "\n",
      " [[244 243 245]\n",
      "  [244 243 245]\n",
      "  [244 243 245]\n",
      "  ...\n",
      "  [242 244 245]\n",
      "  [242 244 245]\n",
      "  [242 244 245]]\n",
      "\n",
      " [[244 243 245]\n",
      "  [244 243 245]\n",
      "  [244 243 245]\n",
      "  ...\n",
      "  [242 244 245]\n",
      "  [242 244 245]\n",
      "  [242 244 245]]\n",
      "\n",
      " ...\n",
      "\n",
      " [[222 220 219]\n",
      "  [222 220 219]\n",
      "  [222 220 219]\n",
      "  ...\n",
      "  [230 228 227]\n",
      "  [230 228 227]\n",
      "  [228 226 225]]\n",
      "\n",
      " [[222 220 219]\n",
      "  [222 220 219]\n",
      "  [222 220 219]\n",
      "  ...\n",
      "  [230 228 227]\n",
      "  [230 228 227]\n",
      "  [228 226 225]]\n",
      "\n",
      " [[222 220 219]\n",
      "  [222 220 219]\n",
      "  [222 220 219]\n",
      "  ...\n",
      "  [230 228 227]\n",
      "  [230 228 227]\n",
      "  [228 226 225]]]\n"
     ]
    }
   ],
   "source": [
    "print(img)"
   ]
  },
  {
   "cell_type": "code",
   "execution_count": 5,
   "id": "3e281a7b",
   "metadata": {},
   "outputs": [
    {
     "data": {
      "text/plain": [
       "(1920, 1920, 3)"
      ]
     },
     "execution_count": 5,
     "metadata": {},
     "output_type": "execute_result"
    }
   ],
   "source": [
    "img.shape"
   ]
  },
  {
   "cell_type": "code",
   "execution_count": 6,
   "id": "f9693d8b",
   "metadata": {},
   "outputs": [],
   "source": [
    "cv2.imshow(\"Cr7\",img)#displaying the image\n",
    "cv2.waitKey(2000)\n",
    "cv2.destroyAllWindows()"
   ]
  },
  {
   "cell_type": "code",
   "execution_count": 7,
   "id": "7bbb9759",
   "metadata": {},
   "outputs": [],
   "source": [
    "## Image Preprocessing -\n",
    "img=cv2.imread(\"Images/Cristiano_Ronaldo.jpg\")\n",
    "resized_img=cv2.resize(img,(500,500))\n",
    "gray=cv2.cvtColor(resized_img,cv2.COLOR_BGR2GRAY)\n",
    "cv2.imshow(\"Cr7\",gray)\n",
    "cv2.waitKey()\n",
    "cv2.destroyAllWindows()"
   ]
  },
  {
   "cell_type": "markdown",
   "id": "1a50adbb",
   "metadata": {},
   "source": [
    "## 😺 Face Detection using Haar Cascade"
   ]
  },
  {
   "cell_type": "code",
   "execution_count": 9,
   "id": "15511f74",
   "metadata": {},
   "outputs": [],
   "source": [
    "face_classifier=cv2.CascadeClassifier(\"Haarcascades/haarcascade_frontalface_default.xml\")\n",
    "image=cv2.imread(\"Images/Cristiano_Ronaldo.jpg\")\n",
    "image=cv2.resize(image,(500,500))\n",
    "gray=cv2.cvtColor(image,cv2.COLOR_BGR2GRAY)\n",
    "faces=face_classifier.detectMultiScale(gray,1.05,5)"
   ]
  },
  {
   "cell_type": "code",
   "execution_count": 10,
   "id": "601d6a3a",
   "metadata": {},
   "outputs": [
    {
     "name": "stdout",
     "output_type": "stream",
     "text": [
      "[[137  84 221 221]]\n"
     ]
    }
   ],
   "source": [
    "print(faces)"
   ]
  },
  {
   "cell_type": "code",
   "execution_count": 11,
   "id": "71152461",
   "metadata": {},
   "outputs": [],
   "source": [
    "if faces is ():\n",
    "    print(\"No faces is found\")\n",
    "for (x,y,w,h) in faces:\n",
    "    cv2.rectangle(image,(x,y),(x+w,y+h),(0,255,100),1) # Thickness\n",
    "    \n",
    "cv2.imshow(\"Face Detection\",image)\n",
    "cv2.waitKey(2000)\n",
    "cv2.destroyAllWindows()"
   ]
  },
  {
   "cell_type": "markdown",
   "id": "a9514fa4",
   "metadata": {},
   "source": [
    "## Face 😺 along with👁️ Eye Detection using Haar Cascade"
   ]
  },
  {
   "cell_type": "code",
   "execution_count": 15,
   "id": "0ff6b165",
   "metadata": {},
   "outputs": [],
   "source": [
    "face_classifier=cv2.CascadeClassifier(\"Haarcascades/haarcascade_frontalface_default.xml\")\n",
    "face_eye=cv2.CascadeClassifier(\"Haarcascades/haarcascade_eye.xml\")\n",
    "image=cv2.imread(\"Images/Cristiano_Ronaldo.jpg\")\n",
    "resized=cv2.resize(image,(500,500))\n",
    "gray=cv2.cvtColor(resized,cv2.COLOR_BGR2GRAY)\n",
    "\n",
    "faces=face_classifier.detectMultiScale(gray,1.3,5)\n",
    "if faces is ():\n",
    "    print(\"No faces is found\")\n",
    "for (x,y,w,h) in faces:\n",
    "    cv2.rectangle(resized,(x,y),(x+w,y+h),(0,255,100),1)\n",
    "    roi_gray=gray[y:y+h,x:x+w]\n",
    "    roi_color=resized[y:y+h,x:x+w]\n",
    "    eyes=face_eye.detectMultiScale(roi_gray)\n",
    "    for (ex,ey,ew,eh) in eyes:\n",
    "        cv2.rectangle(roi_color,(ex,ey),(ex+ew,ey+eh),(0,255,0),2)\n",
    "cv2.imshow(\"Face Detection\",resized)\n",
    "cv2.waitKey()\n",
    "cv2.destroyAllWindows()"
   ]
  },
  {
   "cell_type": "code",
   "execution_count": null,
   "id": "5e648912",
   "metadata": {},
   "outputs": [],
   "source": []
  }
 ],
 "metadata": {
  "kernelspec": {
   "display_name": "Python 3 (ipykernel)",
   "language": "python",
   "name": "python3"
  },
  "language_info": {
   "codemirror_mode": {
    "name": "ipython",
    "version": 3
   },
   "file_extension": ".py",
   "mimetype": "text/x-python",
   "name": "python",
   "nbconvert_exporter": "python",
   "pygments_lexer": "ipython3",
   "version": "3.9.13"
  }
 },
 "nbformat": 4,
 "nbformat_minor": 5
}
