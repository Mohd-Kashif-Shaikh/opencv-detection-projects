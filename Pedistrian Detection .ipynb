{
 "cells": [
  {
   "cell_type": "markdown",
   "id": "4feeed41",
   "metadata": {},
   "source": [
    "# 📚 Importing Libraries"
   ]
  },
  {
   "cell_type": "code",
   "execution_count": 1,
   "id": "47584c08",
   "metadata": {},
   "outputs": [],
   "source": [
    "import cv2\n",
    "import time "
   ]
  },
  {
   "cell_type": "code",
   "execution_count": 6,
   "id": "1bd35ba5",
   "metadata": {},
   "outputs": [],
   "source": [
    "## Loading the Haarcacades Classifier's \n",
    "body=cv2.CascadeClassifier(\"Haarcascades/haarcascade_fullbody.xml\")\n",
    "cap=cv2.VideoCapture(\"Images/walking.avi\")"
   ]
  },
  {
   "cell_type": "markdown",
   "id": "29d6cc47",
   "metadata": {},
   "source": [
    "# 🧍 Pedestrian Detection in Video"
   ]
  },
  {
   "cell_type": "code",
   "execution_count": 7,
   "id": "c0e1b40e",
   "metadata": {},
   "outputs": [],
   "source": [
    "while cap.isOpened():\n",
    "    check,frame=cap.read()\n",
    "    gray=cv2.cvtColor(frame,cv2.COLOR_BGR2GRAY)\n",
    "    bodies=body.detectMultiScale(gray,1.2,3)\n",
    "    for (x,y,w,h) in bodies:\n",
    "        cv2.rectangle(frame,(x,y),(x+w,y+h),(0,255,255,2))\n",
    "        cv2.imshow(\"Pedistrian\",frame)\n",
    "    if cv2.waitKey(1)==ord(\"q\"):\n",
    "        break\n",
    "cap.release()\n",
    "cv2.destroyAllWindows()"
   ]
  },
  {
   "cell_type": "markdown",
   "id": "f1f995ed",
   "metadata": {},
   "source": [
    "# 🚗 Cars Detection in Video"
   ]
  },
  {
   "cell_type": "code",
   "execution_count": 8,
   "id": "796ab797",
   "metadata": {},
   "outputs": [],
   "source": [
    "#import time"
   ]
  },
  {
   "cell_type": "code",
   "execution_count": 9,
   "id": "f0192f5c",
   "metadata": {},
   "outputs": [],
   "source": [
    "## Loading the Haarcacades Classifier's \n",
    "car=cv2.CascadeClassifier(\"Haarcascades/haarcascade_car.xml\")\n",
    "cap=cv2.VideoCapture(\"Images/cars.avi\")"
   ]
  },
  {
   "cell_type": "code",
   "execution_count": 10,
   "id": "6068de81",
   "metadata": {},
   "outputs": [],
   "source": [
    "while cap.isOpened():\n",
    "    time.sleep(.05)\n",
    "    check,frame=cap.read()\n",
    "    gray=cv2.cvtColor(frame,cv2.COLOR_BGR2GRAY)\n",
    "    cars=car.detectMultiScale(gray,1.4,2)\n",
    "    for (x,y,w,h) in cars:\n",
    "        cv2.rectangle(frame,(x,y),(x+w,y+h),(0,255,255,2))\n",
    "        cv2.imshow(\"Cars\",frame)\n",
    "    if cv2.waitKey(1)==ord(\"q\"):\n",
    "        break\n",
    "cap.release()\n",
    "cv2.destroyAllWindows()"
   ]
  },
  {
   "cell_type": "code",
   "execution_count": null,
   "id": "69ff2ef2",
   "metadata": {},
   "outputs": [],
   "source": []
  }
 ],
 "metadata": {
  "kernelspec": {
   "display_name": "Python 3 (ipykernel)",
   "language": "python",
   "name": "python3"
  },
  "language_info": {
   "codemirror_mode": {
    "name": "ipython",
    "version": 3
   },
   "file_extension": ".py",
   "mimetype": "text/x-python",
   "name": "python",
   "nbconvert_exporter": "python",
   "pygments_lexer": "ipython3",
   "version": "3.9.13"
  }
 },
 "nbformat": 4,
 "nbformat_minor": 5
}
